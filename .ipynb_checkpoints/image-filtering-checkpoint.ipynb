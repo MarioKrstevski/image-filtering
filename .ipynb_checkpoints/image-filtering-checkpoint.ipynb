{
 "cells": [
  {
   "cell_type": "markdown",
   "metadata": {
    "kernel": "SoS"
   },
   "source": [
    "3+5"
   ]
  },
  {
   "cell_type": "code",
   "execution_count": 22,
   "metadata": {
    "kernel": "Python 3",
    "scrolled": true
   },
   "outputs": [
    {
     "name": "stderr",
     "output_type": "stream",
     "text": [
      "/usr/local/lib/python3.7/site-packages/ipykernel_launcher.py:16: MatplotlibDeprecationWarning: Adding an axes using the same arguments as a previous axes currently reuses the earlier instance.  In a future version, a new instance will always be created and returned.  Meanwhile, this warning can be suppressed, and the future behavior ensured, by passing a unique label to each axes instance.\n",
      "  app.launch_new_instance()\n",
      "/usr/local/lib/python3.7/site-packages/ipykernel_launcher.py:18: MatplotlibDeprecationWarning: Adding an axes using the same arguments as a previous axes currently reuses the earlier instance.  In a future version, a new instance will always be created and returned.  Meanwhile, this warning can be suppressed, and the future behavior ensured, by passing a unique label to each axes instance.\n"
     ]
    }
   ],
   "source": [
    "import numpy as np\n",
    "import cv2\n",
    "from matplotlib import pyplot as plt\n",
    "\n",
    "path = r'/Users/mariokrstevski/Downloads/Domasna_rabota_metodologija/Barbara.tif'\n",
    "img = cv2.imread(path,0)\n",
    "cv2.imshow('image', img) \n",
    "\n",
    "img_float32 = np.float32(img)\n",
    "\n",
    "dft = cv2.dft(img_float32, flags = cv2.DFT_COMPLEX_OUTPUT)\n",
    "dft_shift = np.fft.fftshift(dft)\n",
    "\n",
    "magnitude_spectrum = 20*np.log(cv2.magnitude(dft_shift[:,:,0],dft_shift[:,:,1]))\n",
    "\n",
    "plt.subplot(121),plt.imshow(img, cmap = 'gray')\n",
    "plt.title('Input Image'), plt.xticks([]), plt.yticks([])\n",
    "plt.subplot(122),plt.imshow(magnitude_spectrum, cmap = 'gray')\n",
    "plt.title('Magnitude Spectrum'), plt.xticks([]), plt.yticks([])\n",
    "plt.show()"
   ]
  },
  {
   "cell_type": "code",
   "execution_count": 47,
   "metadata": {
    "kernel": "Python 3",
    "scrolled": false
   },
   "outputs": [
    {
     "name": "stderr",
     "output_type": "stream",
     "text": [
      "Subkernel Octave does not support magic %put.\n",
      "Subkernel Octave does not support magic %put.\n"
     ]
    },
    {
     "ename": "NameError",
     "evalue": "name 'filtered_image' is not defined",
     "output_type": "error",
     "traceback": [
      "\u001b[0;31m---------------------------------------------------------------------------\u001b[0m",
      "\u001b[0;31mNameError\u001b[0m                                 Traceback (most recent call last)",
      "\u001b[0;32m<ipython-input-31-c767d6ccf620>\u001b[0m in \u001b[0;36m<module>\u001b[0;34m\u001b[0m\n\u001b[1;32m      5\u001b[0m \u001b[0;31m# %matplotlib nbagg\u001b[0m\u001b[0;34m\u001b[0m\u001b[0;34m\u001b[0m\u001b[0;34m\u001b[0m\u001b[0m\n\u001b[1;32m      6\u001b[0m \u001b[0;34m\u001b[0m\u001b[0m\n\u001b[0;32m----> 7\u001b[0;31m \u001b[0mprint\u001b[0m\u001b[0;34m(\u001b[0m\u001b[0mfiltered_image\u001b[0m\u001b[0;34m)\u001b[0m\u001b[0;34m\u001b[0m\u001b[0;34m\u001b[0m\u001b[0m\n\u001b[0m\u001b[1;32m      8\u001b[0m \u001b[0;34m\u001b[0m\u001b[0m\n\u001b[1;32m      9\u001b[0m slider_value=widgets.IntRangeSlider(\n",
      "\u001b[0;31mNameError\u001b[0m: name 'filtered_image' is not defined"
     ]
    }
   ],
   "source": [
    "%get --from Octave filtered_image \n",
    "%get --from Octave filter_kernel\n",
    "\n",
    "import cv2\n",
    "from matplotlib import pyplot as plt\n",
    "%matplotlib notebook\n",
    "\n",
    "# %matplotlib nbagg\n",
    "\n",
    "print(filtered_image)\n",
    "\n",
    "slider_value=widgets.IntRangeSlider(\n",
    "    value=[1, 2],\n",
    "    min=0,\n",
    "    max=10,\n",
    "    step=1,\n",
    "    description='Frequency:',\n",
    "    disabled=False,\n",
    "    continuous_update=False,\n",
    "    orientation='horizontal',\n",
    "    readout=True,\n",
    "    readout_format='d',\n",
    ")\n",
    "\n",
    "print(slider_value.value)\n",
    "\n",
    "display(slider_value)\n",
    "\n",
    "x = np.array(array_from_matlab)\n",
    "matix[x,y]\n",
    "\n",
    "def on_value_change(change):\n",
    "    with output2:\n",
    "        print(change['new'])\n",
    "        \n",
    "slider_value.observe(on_value_change, names='values')\n",
    "\n",
    "rows, cols = img.shape\n",
    "crow,ccol = rows/2 , cols/2\n",
    "\n",
    "np.reshape(x, (rows,cols)) \n",
    "\n",
    "# mask = np.zeros((rows,cols,2),np.uint8)\n",
    "# mask[int(crow-30):int(crow+30), int(ccol-30):int(ccol+30)] = 1\n",
    "\n",
    "\n",
    "fshift = dft_shift*mask\n",
    "f_ishift = np.fft.ifftshift(fshift)\n",
    "img_back = cv2.idft(f_ishift)\n",
    "img_back = cv2.magnitude(img_back[:,:,0],img_back[:,:,1])\n",
    "\n",
    "plt.subplot(121),plt.imshow(x[slider.x,slider.y], cmap = 'gray')\n",
    "plt.title('Input Image'), plt.xticks([]), plt.yticks([])\n",
    "plt.subplot(122),plt.imshow(img_back, cmap = 'gray')\n",
    "plt.title('Output image with universal IDFT'), plt.xticks([]), plt.yticks([])\n",
    "plt.show()"
   ]
  },
  {
   "cell_type": "code",
   "execution_count": 32,
   "metadata": {
    "kernel": "Python 3",
    "scrolled": true
   },
   "outputs": [
    {
     "name": "stdout",
     "output_type": "stream",
     "text": [
      "Warning: Cannot change to a different GUI toolkit: nbagg. Using notebook instead.\n"
     ]
    },
    {
     "data": {
      "application/vnd.jupyter.widget-view+json": {
       "model_id": "869e26d457ad422e9f1be23b43d673a4",
       "version_major": 2,
       "version_minor": 0
      },
      "text/plain": [
       "FloatRangeSlider(value=(0.0, 1.0), description='Frequency cuttofs:', max=10.0, readout_format='.0f', step=1.0)"
      ]
     },
     "metadata": {},
     "output_type": "display_data"
    }
   ],
   "source": []
  },
  {
   "cell_type": "code",
   "execution_count": 25,
   "metadata": {
    "kernel": "Octave"
   },
   "outputs": [
    {
     "name": "stdout",
     "output_type": "stream",
     "text": [
      "Created file '/Users/mariokrstevski/Documents/Projects/image-filtering/create_filter.m'.\n"
     ]
    }
   ],
   "source": [
    "%%file create_filter.m\n",
    "function filter = create_filter(nx,ny,d0,d1)\n",
    "\n",
    "filter = ones(nx,ny);\n",
    "\n",
    "for i = 0:nx-1,\n",
    "            for j = 0:ny-1\n",
    "                 dist= sqrt((i-nx/2)^2 + (j-ny/2)^2);\n",
    "                 filter(i+1,j+1) = exp(-dist^2/(2*(d1^2))).*(1.0-exp(-dist^2/(2*(d0^2))));\n",
    "            end\n",
    "end\n",
    "\n",
    "filter(nx/2+1,ny/2+1)=1;\n",
    "end"
   ]
  },
  {
   "cell_type": "code",
   "execution_count": 27,
   "metadata": {
    "kernel": "Octave"
   },
   "outputs": [],
   "source": [
    "clear all\n",
    "%read image\n",
    "im = double(imread('Barbara.tif'));\n",
    "%size of the image\n",
    "[nx ny] = size(im);\n",
    "%Transform the image from spatial to frequency domain\n",
    "im_fft = fftshift(fft2(im));\n",
    "% Create Gaussian bandpass kernels, in frequency domain, for 20 different cut off frequencies and filter the image\n",
    "p=1;\n",
    "for i = 1:10:101\n",
    "q=1;\n",
    "    for j = 1:10:101\n",
    "        %Create the bandpass kernel\n",
    "        tmp1 = create_filter(nx,ny,i,j);\n",
    "        %Filter the image with the bandpass kernel and transform it back to spatial domain\n",
    "        tmp = abs(ifft2(ifftshift(tmp1.*im_fft)));\n",
    "        %Save the filtered image (in spatial domain) and kernel (in frequency domain) for visualization \n",
    "        filtered_image(p,q,:) = tmp(:);\n",
    "        filter_kernel(p,q,:) = tmp1(:);\n",
    "        q=q+1;\n",
    "    end\n",
    "    p=p+1;\n",
    "end"
   ]
  },
  {
   "cell_type": "code",
   "execution_count": null,
   "metadata": {
    "kernel": "Octave"
   },
   "outputs": [],
   "source": []
  }
 ],
 "metadata": {
  "kernelspec": {
   "display_name": "SoS",
   "language": "sos",
   "name": "sos"
  },
  "language_info": {
   "codemirror_mode": "sos",
   "file_extension": ".sos",
   "mimetype": "text/x-sos",
   "name": "sos",
   "nbconvert_exporter": "sos_notebook.converter.SoS_Exporter",
   "pygments_lexer": "sos"
  },
  "sos": {
   "kernels": [
    [
     "Octave",
     "octave",
     "octave",
     "",
     ""
    ],
    [
     "Python 3",
     "python3",
     "python3",
     "",
     {
      "name": "ipython",
      "version": 3
     }
    ]
   ],
   "panel": {
    "displayed": true,
    "height": 0
   },
   "version": "0.21.0"
  }
 },
 "nbformat": 4,
 "nbformat_minor": 2
}
